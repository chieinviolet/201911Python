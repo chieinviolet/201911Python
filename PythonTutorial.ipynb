{
  "nbformat": 4,
  "nbformat_minor": 0,
  "metadata": {
    "colab": {
      "name": "PythonTutorial.ipynb",
      "provenance": [],
      "collapsed_sections": [],
      "toc_visible": true,
      "include_colab_link": true
    },
    "kernelspec": {
      "name": "python3",
      "display_name": "Python 3"
    },
    "language_info": {
      "name": "python"
    }
  },
  "cells": [
    {
      "cell_type": "markdown",
      "metadata": {
        "id": "view-in-github",
        "colab_type": "text"
      },
      "source": [
        "<a href=\"https://colab.research.google.com/github/chieinviolet/201911Python_python_basic-AB/blob/master/PythonTutorial.ipynb\" target=\"_parent\"><img src=\"https://colab.research.google.com/assets/colab-badge.svg\" alt=\"Open In Colab\"/></a>"
      ]
    },
    {
      "cell_type": "markdown",
      "metadata": {
        "id": "FmVKUWLBfIAd"
      },
      "source": [
        "# **Pythonチュートリアル**"
      ]
    },
    {
      "cell_type": "markdown",
      "metadata": {
        "id": "1onk-yx2NImG"
      },
      "source": [
        "---\n",
        "\n",
        "\n"
      ]
    },
    {
      "cell_type": "markdown",
      "metadata": {
        "id": "D76KJeBVJO2S"
      },
      "source": [
        "## **インストラクション**\n"
      ]
    },
    {
      "cell_type": "markdown",
      "metadata": {
        "id": "WbxFud1FJcO2"
      },
      "source": [
        "*   解答用紙をダウンロードし、決められた提出方法で提出して下さい。\n",
        "*   全ての演習は、難易度の高い順に、最も簡単なものから最も難しいものへと慎重に配置されています。\n",
        "*   解答は不完全な形でも、何度でも提出可能です。(エクササイズ毎に提出することをお勧めしています。)\n",
        "*   運営はクエストに関する一切の質問にお答えできません。質問がある際にはDiscord内で他の学習者に尋ねましょう！\n",
        "* Discordでのコミュニケーションのみでクエストの解決が困難な場合は、ピアレビューをご活用ください。"
      ]
    },
    {
      "cell_type": "markdown",
      "metadata": {
        "id": "X_QC5dUAX_J-"
      },
      "source": [
        "# New Section"
      ]
    },
    {
      "cell_type": "markdown",
      "metadata": {
        "id": "JwwqVLzSLiBt"
      },
      "source": [
        "---"
      ]
    },
    {
      "cell_type": "markdown",
      "metadata": {
        "id": "B2IYzTiYfKsz"
      },
      "source": [
        "## **エクササイズ 01: 文字列を出力せよ** "
      ]
    },
    {
      "cell_type": "markdown",
      "metadata": {
        "id": "EolKSsONfY-1"
      },
      "source": [
        "1. 「Hello World!」という文字列を出力せよ。"
      ]
    },
    {
      "cell_type": "code",
      "metadata": {
        "id": "lnz1dRwEfRW5",
        "colab": {
          "base_uri": "https://localhost:8080/"
        },
        "outputId": "f4298997-9175-4a2a-ef37-1d759ed704c3"
      },
      "source": [
        "print (\"hello world\"\n",
        ")"
      ],
      "execution_count": 1,
      "outputs": [
        {
          "output_type": "stream",
          "text": [
            "hello world\n"
          ],
          "name": "stdout"
        }
      ]
    },
    {
      "cell_type": "markdown",
      "metadata": {
        "id": "pGUaSsg0fUnB"
      },
      "source": [
        "## **エクササイズ 02: 数値を出力せよ** "
      ]
    },
    {
      "cell_type": "markdown",
      "metadata": {
        "id": "_FjAlE_Fff7X"
      },
      "source": [
        "1. 数値の9を出力せよ。"
      ]
    },
    {
      "cell_type": "code",
      "metadata": {
        "id": "EyYsLnmAfdOV",
        "colab": {
          "base_uri": "https://localhost:8080/"
        },
        "outputId": "0d4687db-3a99-486b-c7af-34f506839691"
      },
      "source": [
        "print (9)"
      ],
      "execution_count": 2,
      "outputs": [
        {
          "output_type": "stream",
          "text": [
            "9\n"
          ],
          "name": "stdout"
        }
      ]
    },
    {
      "cell_type": "markdown",
      "metadata": {
        "id": "wjRWEax6fgpU"
      },
      "source": [
        "2. 7に4足した値を出力せよ。"
      ]
    },
    {
      "cell_type": "code",
      "metadata": {
        "id": "rgvm3Da4fR6I",
        "colab": {
          "base_uri": "https://localhost:8080/"
        },
        "outputId": "447e0bfd-9135-4baa-8e16-3d4b8948c0be"
      },
      "source": [
        "print(7+4)"
      ],
      "execution_count": 5,
      "outputs": [
        {
          "output_type": "stream",
          "text": [
            "11\n"
          ],
          "name": "stdout"
        }
      ]
    },
    {
      "cell_type": "markdown",
      "metadata": {
        "id": "HDH44q6GfhiX"
      },
      "source": [
        "3. 「7+ 4」を文字列として出力せよ。\n"
      ]
    },
    {
      "cell_type": "code",
      "metadata": {
        "id": "LyAIiANRfVS_",
        "colab": {
          "base_uri": "https://localhost:8080/"
        },
        "outputId": "4d02944e-9123-4c52-e919-3bd16fe9f4c3"
      },
      "source": [
        "print (\"7+4\")"
      ],
      "execution_count": 6,
      "outputs": [
        {
          "output_type": "stream",
          "text": [
            "7+4\n"
          ],
          "name": "stdout"
        }
      ]
    },
    {
      "cell_type": "markdown",
      "metadata": {
        "id": "FmGEPZWYfmUS"
      },
      "source": [
        "## **エクササイズ 03: 計算結果を出力せよ**"
      ]
    },
    {
      "cell_type": "markdown",
      "metadata": {
        "id": "vxyTdwJkfxIl"
      },
      "source": [
        "1. 9を2で割った値を出力せよ。"
      ]
    },
    {
      "cell_type": "code",
      "metadata": {
        "id": "gO3LTWjCf04x",
        "colab": {
          "base_uri": "https://localhost:8080/"
        },
        "outputId": "6f45cb7b-258b-491e-83c8-fc53c19789a7"
      },
      "source": [
        "print(9/2 )"
      ],
      "execution_count": 7,
      "outputs": [
        {
          "output_type": "stream",
          "text": [
            "4.5\n"
          ],
          "name": "stdout"
        }
      ]
    },
    {
      "cell_type": "markdown",
      "metadata": {
        "id": "Hc272iFufxLO"
      },
      "source": [
        "2. 7に5を掛けた値を出力せよ。"
      ]
    },
    {
      "cell_type": "code",
      "metadata": {
        "id": "CQJ0yYtEf1gI",
        "colab": {
          "base_uri": "https://localhost:8080/"
        },
        "outputId": "a8665ca6-aada-4f5c-d081-d4e18ab71e4c"
      },
      "source": [
        "print(7*5)"
      ],
      "execution_count": 8,
      "outputs": [
        {
          "output_type": "stream",
          "text": [
            "35\n"
          ],
          "name": "stdout"
        }
      ]
    },
    {
      "cell_type": "markdown",
      "metadata": {
        "id": "UWeOyq59fxOq"
      },
      "source": [
        "3.  5を2で割った時の余りを出力せよ。"
      ]
    },
    {
      "cell_type": "code",
      "metadata": {
        "id": "fgxsUN_zfn0t",
        "colab": {
          "base_uri": "https://localhost:8080/"
        },
        "outputId": "8b337c14-0f94-451c-9bc3-047726094d6e"
      },
      "source": [
        "print (5%2)"
      ],
      "execution_count": 13,
      "outputs": [
        {
          "output_type": "stream",
          "text": [
            "1\n"
          ],
          "name": "stdout"
        }
      ]
    },
    {
      "cell_type": "markdown",
      "metadata": {
        "id": "6ccXtL8Zf6J3"
      },
      "source": [
        "## **エクササイズ 04: 変数を用いて出力せよ**"
      ]
    },
    {
      "cell_type": "markdown",
      "metadata": {
        "id": "jO0k1c1Sf7h-"
      },
      "source": [
        "1. 変数nameに文字列「くまちゃん」を代入して、変数nameの値を出力せ\n",
        "よ。\n"
      ]
    },
    {
      "cell_type": "code",
      "metadata": {
        "id": "X3dRzO0jf9wA",
        "colab": {
          "base_uri": "https://localhost:8080/"
        },
        "outputId": "a065df5a-71b3-4dca-d541-3df2f4ffccc1"
      },
      "source": [
        "name= \"くまちゃん\"\n",
        "print (name)\n"
      ],
      "execution_count": 16,
      "outputs": [
        {
          "output_type": "stream",
          "text": [
            "くまちゃん\n"
          ],
          "name": "stdout"
        }
      ]
    },
    {
      "cell_type": "markdown",
      "metadata": {
        "id": "5OPTMMUxf7Xw"
      },
      "source": [
        "2.  ageを用いて「明日が26歳の誕生日です」と出力せよ。\n",
        "\n",
        "\n",
        "\n",
        "```\n",
        "age = 26\n",
        "```\n",
        "\n",
        "\n",
        "\n"
      ]
    },
    {
      "cell_type": "code",
      "metadata": {
        "id": "othdgzDtHp38",
        "colab": {
          "base_uri": "https://localhost:8080/"
        },
        "outputId": "5e56a87a-9008-4726-80ef-5e266dd03d76"
      },
      "source": [
        "age = 26\n",
        "print(\"明日が\", age , \"歳の誕生日です\")"
      ],
      "execution_count": 18,
      "outputs": [
        {
          "output_type": "stream",
          "text": [
            "明日が 26 歳の誕生日です\n"
          ],
          "name": "stdout"
        }
      ]
    },
    {
      "cell_type": "markdown",
      "metadata": {
        "id": "SzQ-RhKKf_7l"
      },
      "source": [
        "## **エクササイズ 05: if文をマスターせよ**"
      ]
    },
    {
      "cell_type": "markdown",
      "metadata": {
        "id": "ZS1MZiVxgEkS"
      },
      "source": [
        "x = 0でない場合に「xは100ではありません」と出力せよ。\n",
        "\n",
        "\n",
        "```\n",
        "x = 5 * 6\n",
        "```\n",
        "\n"
      ]
    },
    {
      "cell_type": "code",
      "metadata": {
        "id": "KZTi_fK5gCXq",
        "colab": {
          "base_uri": "https://localhost:8080/"
        },
        "outputId": "727ae273-784f-402a-a33c-5739f5d1278b"
      },
      "source": [
        "x = 5*6 \n",
        "if x != 100: \n",
        "  print (\"xは100ではありません\")\n"
      ],
      "execution_count": 20,
      "outputs": [
        {
          "output_type": "stream",
          "text": [
            "xは100ではありません\n"
          ],
          "name": "stdout"
        }
      ]
    },
    {
      "cell_type": "markdown",
      "metadata": {
        "id": "2f_71aa5gGtt"
      },
      "source": [
        "2. expenseの値がgoogle_priceの値以上の時、「グーグルを買うことが\n",
        "できます」と出力せよ。\n",
        "\n",
        "\n",
        "```\n",
        "expense = 500\n",
        "google_price = 200\n",
        "```\n",
        "\n",
        "\n"
      ]
    },
    {
      "cell_type": "code",
      "metadata": {
        "id": "CcpiENEHJAHe",
        "colab": {
          "base_uri": "https://localhost:8080/"
        },
        "outputId": "110ab196-8b62-40e1-c798-034cf9855b57"
      },
      "source": [
        "expence = 500\n",
        "google_price= 200\n",
        "if expence > google_price:\n",
        "  print(\"グーグルで買うことができます\")"
      ],
      "execution_count": 21,
      "outputs": [
        {
          "output_type": "stream",
          "text": [
            "グーグルで買うことができます\n"
          ],
          "name": "stdout"
        }
      ]
    },
    {
      "cell_type": "markdown",
      "metadata": {
        "id": "C2ZSCXTpgIs9"
      },
      "source": [
        "3. if文の条件に当てはまらない場合に「お金が足りません」と出力せよ。"
      ]
    },
    {
      "cell_type": "code",
      "metadata": {
        "id": "tvhJVTFegKkI",
        "colab": {
          "base_uri": "https://localhost:8080/"
        },
        "outputId": "466faf21-6eaa-410a-b979-6c720f1f312c"
      },
      "source": [
        "expence = 200\n",
        "google_price= 500\n",
        "if expence > google_price:\n",
        "  print(\"グーグルで買うことができます\")\n",
        "elif expence < google_price:\n",
        "  print(\"お金が足りません\")"
      ],
      "execution_count": 29,
      "outputs": [
        {
          "output_type": "stream",
          "text": [
            "お金が足りません\n"
          ],
          "name": "stdout"
        }
      ]
    },
    {
      "cell_type": "markdown",
      "metadata": {
        "id": "HS3M7741gLZI"
      },
      "source": [
        "## **エクササイズ 06: inputを使いこなせ**"
      ]
    },
    {
      "cell_type": "markdown",
      "metadata": {
        "id": "XShbWYUfgPME"
      },
      "source": [
        "1.  inputを用いて入力を受け取り、変数input_countに代入せよ。\n"
      ]
    },
    {
      "cell_type": "code",
      "metadata": {
        "id": "UalJ_g2SgM1Q",
        "colab": {
          "base_uri": "https://localhost:8080/"
        },
        "outputId": "7c8f4b56-e238-4bf4-986b-6e242b737f66"
      },
      "source": [
        "input_count = input(\"何か入れてね\")"
      ],
      "execution_count": 33,
      "outputs": [
        {
          "output_type": "stream",
          "text": [
            "何か入れてね100\n"
          ],
          "name": "stdout"
        }
      ]
    },
    {
      "cell_type": "markdown",
      "metadata": {
        "id": "iZLTDMbAgSVt"
      },
      "source": [
        "2.  input_countを数値として下記に代入し出力せよ。\n",
        "\n",
        "\n",
        "```\n",
        "cup_price = 500\n",
        "count =\n",
        "total_price = cup_price * count\n",
        "print('購入するカップの個数は' + str(count) + '個です')\n",
        "print('支払い金額は' + str(total_price) + '円です')\n",
        "```\n",
        "\n"
      ]
    },
    {
      "cell_type": "code",
      "metadata": {
        "id": "3lgrrW5YIuIX",
        "colab": {
          "base_uri": "https://localhost:8080/"
        },
        "outputId": "c3a9bfa5-e687-46d6-f321-5ff359e61441"
      },
      "source": [
        "input_count = input(\"何個買う？\")\n",
        "cup_price = 500\n",
        "count = str(input_count)\n",
        "total_price = int(cup_price) * int(count)\n",
        "print('購入するカップの個数は'+ str(count) + \"個です\")\n",
        "print(\"支払額は\" + str(total_price) + \"円です\")"
      ],
      "execution_count": 48,
      "outputs": [
        {
          "output_type": "stream",
          "text": [
            "何個買う？70\n",
            "購入するカップの個数は70個です\n",
            "支払額は35000円です\n"
          ],
          "name": "stdout"
        }
      ]
    },
    {
      "cell_type": "markdown",
      "metadata": {
        "id": "DxzC_skKgU1L"
      },
      "source": [
        "## **エクササイズ 07: for文で出力せよ**"
      ]
    },
    {
      "cell_type": "markdown",
      "metadata": {
        "id": "JHD9l5aFgWzF"
      },
      "source": [
        "1. for文を用いてリストの要素を1つずつ取り出し、「得意なスポーツは\n",
        "◯◯です」と出力せよ。\n",
        "\n",
        "\n",
        "```\n",
        "sports = ['サッカー', 'バスケ', 'テニス']\n",
        "```\n",
        "\n",
        "\n"
      ]
    },
    {
      "cell_type": "code",
      "metadata": {
        "id": "NyevDSeaIiq0",
        "colab": {
          "base_uri": "https://localhost:8080/"
        },
        "outputId": "2f16411f-5793-4adb-e712-2a3ae3ddd032"
      },
      "source": [
        "sports = ['サッカー','バスケ','テニス']\n",
        "for sport in sports:\n",
        "  print (sport)\n",
        "  #print('好きなスポーツは' , x 'です')\n"
      ],
      "execution_count": 56,
      "outputs": [
        {
          "output_type": "stream",
          "text": [
            "サッカー\n",
            "バスケ\n",
            "テニス\n"
          ],
          "name": "stdout"
        }
      ]
    },
    {
      "cell_type": "code",
      "metadata": {
        "id": "0dCqQLbwSOTd"
      },
      "source": [
        ""
      ],
      "execution_count": null,
      "outputs": []
    },
    {
      "cell_type": "markdown",
      "metadata": {
        "id": "mXI8CT7GgXXs"
      },
      "source": [
        "2. for文を用いて、辞書のキーを1つずつ取り出し、繰り返しの中で「◯◯\n",
        "は△△という意味です」と出力せよ。\n",
        "\n",
        "\n",
        "```\n",
        "fruits = {'apple': 'りんご', 'banana': 'バナナ', 'grape': 'ぶどう'}\n",
        "```\n",
        "\n"
      ]
    },
    {
      "cell_type": "code",
      "metadata": {
        "id": "ch_XSUo5k9xE",
        "colab": {
          "base_uri": "https://localhost:8080/"
        },
        "outputId": "781a712f-7999-4d3d-8e6d-40edcfcc7d4e"
      },
      "source": [
        "fruits = {'apple': 'りんご', 'banana': 'バナナ', 'grape': 'ぶどう'}\n",
        "for key, value in fruits.items():\n",
        "  #print(key, value )\n",
        "  print (f\"{key} は{value}という意味です\") "
      ],
      "execution_count": 64,
      "outputs": [
        {
          "output_type": "stream",
          "text": [
            "apple はりんごという意味です\n",
            "banana はバナナという意味です\n",
            "grape はぶどうという意味です\n"
          ],
          "name": "stdout"
        }
      ]
    },
    {
      "cell_type": "markdown",
      "metadata": {
        "id": "QnDJCsLGZOWJ"
      },
      "source": [
        "## **エクササイズ 08: 関数と引数を理解せよ**"
      ]
    },
    {
      "cell_type": "markdown",
      "metadata": {
        "id": "FJr7ZsUBZOWJ"
      },
      "source": [
        "1. 「starbucksはシアトル発のコーヒーチェーンです」という文章を表示する関数 coffeeを定義し、呼び出せ。"
      ]
    },
    {
      "cell_type": "code",
      "metadata": {
        "id": "jIisNuMe0YJf",
        "colab": {
          "base_uri": "https://localhost:8080/"
        },
        "outputId": "a78d31c3-5138-4744-c180-6806ad68d496"
      },
      "source": [
        "def coffee():\n",
        "  print('starbucksはシアトル発のコーヒーチェーンです')\n",
        "\n",
        "coffee()"
      ],
      "execution_count": 69,
      "outputs": [
        {
          "output_type": "stream",
          "text": [
            "starbucksはシアトル発のコーヒーチェーンです\n"
          ],
          "name": "stdout"
        }
      ]
    },
    {
      "cell_type": "markdown",
      "metadata": {
        "id": "lJ-1fnNSZOWK"
      },
      "source": [
        "2. コーヒー１杯の値段を\"price\"、コーヒーの注文数を\"number\"という引数で受け取り、合計金額を表示する関数total_price関数を作成せよ。\n",
        "\n"
      ]
    },
    {
      "cell_type": "code",
      "metadata": {
        "id": "CcVY3As70ZKn",
        "colab": {
          "base_uri": "https://localhost:8080/"
        },
        "outputId": "550a3aee-7d7a-4533-e997-703ac65c9f9c"
      },
      "source": [
        "price = int (input('コーヒーの値段はいくら？'))\n",
        "number = int (input('注文はいくつ？'))\n",
        "\n",
        "\n",
        "def total_price(price, number):\n",
        "  total_price = price * number\n",
        "  print(total_price)\n",
        "\n",
        "total_price(price, number)\n",
        "\n",
        "\n"
      ],
      "execution_count": 75,
      "outputs": [
        {
          "output_type": "stream",
          "text": [
            "コーヒーの値段はいくら？80\n",
            "注文はいくつ？50\n",
            "4000\n"
          ],
          "name": "stdout"
        }
      ]
    },
    {
      "cell_type": "markdown",
      "metadata": {
        "id": "zKoob8SHbVhM"
      },
      "source": [
        "3. total_price関数に price = 450, number = 3 として代入した計算結果を表示せよ。\n"
      ]
    },
    {
      "cell_type": "code",
      "metadata": {
        "id": "8zMnUPC872BH",
        "colab": {
          "base_uri": "https://localhost:8080/"
        },
        "outputId": "3aba2faa-97fa-43d7-d428-20db43c7ef14"
      },
      "source": [
        "def total_price(price, number):\n",
        "  total_price = price * number\n",
        "  print(total_price)\n",
        "\n",
        "total_price(450, 3)"
      ],
      "execution_count": 76,
      "outputs": [
        {
          "output_type": "stream",
          "text": [
            "1350\n"
          ],
          "name": "stdout"
        }
      ]
    },
    {
      "cell_type": "markdown",
      "metadata": {
        "id": "3t4LC4YDiMWU"
      },
      "source": [
        "# 新しいセクション"
      ]
    }
  ]
}